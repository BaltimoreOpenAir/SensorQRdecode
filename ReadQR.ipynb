{
 "cells": [
  {
   "cell_type": "code",
   "execution_count": null,
   "metadata": {
    "collapsed": true
   },
   "outputs": [],
   "source": [
    "import glob\n",
    "from PIL import Image\n",
    "import numpy as np\n",
    "import pandas as pd\n",
    "import zbarlight\n",
    "files = glob.glob( '*[sS]ensor*/*.jpg')\n",
    "#sensor_array = np.array(len(files), dtype = str)\n",
    "s_list = []\n",
    "i = 0\n",
    "for file in files: \n",
    "    image = Image.open(file)\n",
    "    code = zbarlight.scan_codes('qrcode', image)\n",
    "    #sensor_array[i] = str(code)[3:-2].replace(\" \", \",\")\n",
    "    s_list.append(str(code)[3:-2].replace(\" \", \",\"))\n",
    "    i = i+1\n",
    "\n",
    "pd.DataFrame(s_list).to_csv('sensor_codes_first50.csv')"
   ]
  }
 ],
 "metadata": {
  "kernelspec": {
   "display_name": "Python 2",
   "language": "python",
   "name": "python2"
  }
 },
 "nbformat": 4,
 "nbformat_minor": 2
}
